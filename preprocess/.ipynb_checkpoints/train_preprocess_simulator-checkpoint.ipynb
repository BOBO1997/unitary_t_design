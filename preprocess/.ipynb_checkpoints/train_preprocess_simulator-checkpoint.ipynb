{
 "cells": [
  {
   "cell_type": "markdown",
   "id": "66f9ccd4",
   "metadata": {},
   "source": [
    "# Preprocess"
   ]
  },
  {
   "cell_type": "code",
   "execution_count": 1,
   "id": "7de2cdd3",
   "metadata": {},
   "outputs": [],
   "source": [
    "import qiskit\n",
    "from qiskit import IBMQ, Aer\n",
    "from qiskit import QuantumCircuit, QuantumRegister, ClassicalRegister, execute\n",
    "import qiskit.quantum_info as qi\n",
    "from qiskit.visualization import plot_histogram\n",
    "import time\n",
    "import random\n",
    "import numpy as np\n",
    "import pickle\n",
    "from pprint import pprint\n",
    "# from test_unitaries import *\n",
    "import matplotlib.pyplot as plt\n",
    "import seaborn as sns"
   ]
  },
  {
   "cell_type": "code",
   "execution_count": 2,
   "id": "358c3919-9335-47af-9c5c-261b669e9878",
   "metadata": {},
   "outputs": [],
   "source": [
    "Nu= 200\n",
    "Nq = 4 # number of qubit\n",
    "Ns = 100\n",
    "O = 100 \n",
    "seed = 1"
   ]
  },
  {
   "cell_type": "markdown",
   "id": "54868b68",
   "metadata": {},
   "source": [
    "## Generate binary strings with n bits "
   ]
  },
  {
   "cell_type": "code",
   "execution_count": 3,
   "id": "9758fe5f-586e-4391-ad2e-28c07c159a99",
   "metadata": {},
   "outputs": [],
   "source": [
    "def generate_binary_strings(bit_count):\n",
    "    binary_strings = []\n",
    "    def genbin(n, bs=''):\n",
    "        if len(bs) == n:\n",
    "            binary_strings.append(bs)\n",
    "        else:\n",
    "            genbin(n, bs + '0')\n",
    "            genbin(n, bs + '1')\n",
    "    genbin(bit_count)\n",
    "    return binary_strings"
   ]
  },
  {
   "cell_type": "markdown",
   "id": "c062f661",
   "metadata": {},
   "source": [
    "## function to evaluate eq 15 ( j(h_1, h_2.....h_k, i, l))"
   ]
  },
  {
   "cell_type": "code",
   "execution_count": 4,
   "id": "53fc830b-64b2-4f63-8cd8-482b31ed98c7",
   "metadata": {},
   "outputs": [],
   "source": [
    "def get_j(Nq, k):\n",
    "    keys = generate_binary_strings(Nq)    \n",
    "    j_ = []\n",
    "    for key in keys:\n",
    "        temp = 1\n",
    "        for i in range(k):\n",
    "            power = 1 - int(key[i])\n",
    "            temp = temp * ((-1)**power)\n",
    "        j_.append(temp)\n",
    "\n",
    "    j = dict(zip(keys, j_))\n",
    "    return j"
   ]
  },
  {
   "cell_type": "markdown",
   "id": "dbd414ef",
   "metadata": {},
   "source": [
    "## Equation 17"
   ]
  },
  {
   "cell_type": "code",
   "execution_count": 5,
   "id": "b7ca04a2-d21e-4012-b33e-2278f6bbcd03",
   "metadata": {},
   "outputs": [],
   "source": [
    "def get_moment_correlation_J( k_, Nu,counts, j, Ns):\n",
    "    J = []\n",
    "    keys = list(j.keys())\n",
    "    num = 0\n",
    "    # for each unitary Nu\n",
    "    for i in range(Nu):\n",
    "        temp = 0 \n",
    "        for key in keys:\n",
    "            if key in counts[i]:\n",
    "                wt = (counts[i][key])\n",
    "            else:\n",
    "                wt = 0\n",
    "            val = j[key]\n",
    "            temp = temp + (wt * val)\n",
    "        num = num + (temp**k_)    \n",
    "    J = num/((Ns**k_) * Nu)\n",
    "    return J"
   ]
  },
  {
   "cell_type": "code",
   "execution_count": 6,
   "id": "46bebb9b-b944-461d-b38c-8d28873ca2bc",
   "metadata": {},
   "outputs": [],
   "source": [
    "def results_to_counts(results):\n",
    "    counts = []\n",
    "    for result in results:\n",
    "        counts.append(result.get_counts())\n",
    "    return counts"
   ]
  },
  {
   "cell_type": "markdown",
   "id": "a6e4c2b0",
   "metadata": {},
   "source": [
    "### generate training data for  RC and Haar with O = 100 , k = [1,2,3,4], k'= [1,2,3,4,5,6,7]"
   ]
  },
  {
   "cell_type": "code",
   "execution_count": 7,
   "id": "48d46538",
   "metadata": {
    "scrolled": true
   },
   "outputs": [
    {
     "name": "stdout",
     "output_type": "stream",
     "text": [
      "0 th data generation started\n",
      "0 th data generation finished, time: 18.389989852905273 s\n",
      "1 th data generation started\n",
      "1 th data generation finished, time: 18.202961921691895 s\n",
      "2 th data generation started\n",
      "2 th data generation finished, time: 17.47293710708618 s\n",
      "3 th data generation started\n",
      "3 th data generation finished, time: 17.762479782104492 s\n",
      "4 th data generation started\n",
      "4 th data generation finished, time: 18.25411295890808 s\n",
      "5 th data generation started\n",
      "5 th data generation finished, time: 18.789807081222534 s\n",
      "6 th data generation started\n",
      "6 th data generation finished, time: 18.356199979782104 s\n",
      "7 th data generation started\n",
      "7 th data generation finished, time: 18.69804286956787 s\n",
      "8 th data generation started\n",
      "8 th data generation finished, time: 19.396005868911743 s\n",
      "9 th data generation started\n",
      "9 th data generation finished, time: 19.920499086380005 s\n",
      "10 th data generation started\n",
      "10 th data generation finished, time: 19.987860918045044 s\n",
      "11 th data generation started\n"
     ]
    },
    {
     "ename": "KeyboardInterrupt",
     "evalue": "",
     "output_type": "error",
     "traceback": [
      "\u001b[0;31m---------------------------------------------------------------------------\u001b[0m",
      "\u001b[0;31mKeyboardInterrupt\u001b[0m                         Traceback (most recent call last)",
      "\u001b[0;32m/var/folders/vr/d82vcp297v78vk4sb0_nzzdc0000gn/T/ipykernel_33931/1847400459.py\u001b[0m in \u001b[0;36m<module>\u001b[0;34m\u001b[0m\n\u001b[1;32m     17\u001b[0m         \u001b[0mqc\u001b[0m\u001b[0;34m.\u001b[0m\u001b[0mappend\u001b[0m\u001b[0;34m(\u001b[0m\u001b[0mqi\u001b[0m\u001b[0;34m.\u001b[0m\u001b[0mrandom_clifford\u001b[0m\u001b[0;34m(\u001b[0m\u001b[0mNq\u001b[0m\u001b[0;34m,\u001b[0m \u001b[0mseed\u001b[0m \u001b[0;34m=\u001b[0m \u001b[0mseed\u001b[0m\u001b[0;34m)\u001b[0m\u001b[0;34m.\u001b[0m\u001b[0mto_instruction\u001b[0m\u001b[0;34m(\u001b[0m\u001b[0;34m)\u001b[0m\u001b[0;34m,\u001b[0m \u001b[0mrange\u001b[0m\u001b[0;34m(\u001b[0m\u001b[0mNq\u001b[0m\u001b[0;34m)\u001b[0m\u001b[0;34m)\u001b[0m\u001b[0;34m\u001b[0m\u001b[0;34m\u001b[0m\u001b[0m\n\u001b[1;32m     18\u001b[0m         \u001b[0mqc\u001b[0m\u001b[0;34m.\u001b[0m\u001b[0mmeasure\u001b[0m\u001b[0;34m(\u001b[0m\u001b[0mrange\u001b[0m\u001b[0;34m(\u001b[0m\u001b[0mNq\u001b[0m\u001b[0;34m)\u001b[0m\u001b[0;34m,\u001b[0m \u001b[0mrange\u001b[0m\u001b[0;34m(\u001b[0m\u001b[0mNq\u001b[0m\u001b[0;34m)\u001b[0m\u001b[0;34m[\u001b[0m\u001b[0;34m:\u001b[0m\u001b[0;34m:\u001b[0m\u001b[0;34m-\u001b[0m\u001b[0;36m1\u001b[0m\u001b[0;34m]\u001b[0m\u001b[0;34m)\u001b[0m\u001b[0;34m\u001b[0m\u001b[0;34m\u001b[0m\u001b[0m\n\u001b[0;32m---> 19\u001b[0;31m         \u001b[0mresults\u001b[0m\u001b[0;34m.\u001b[0m\u001b[0mappend\u001b[0m\u001b[0;34m(\u001b[0m\u001b[0mexecute\u001b[0m\u001b[0;34m(\u001b[0m\u001b[0mqc\u001b[0m\u001b[0;34m,\u001b[0m \u001b[0mshots\u001b[0m \u001b[0;34m=\u001b[0m \u001b[0mNs\u001b[0m\u001b[0;34m,\u001b[0m \u001b[0mbackend\u001b[0m \u001b[0;34m=\u001b[0m \u001b[0mAer\u001b[0m\u001b[0;34m.\u001b[0m\u001b[0mget_backend\u001b[0m\u001b[0;34m(\u001b[0m\u001b[0;34m\"qasm_simulator\"\u001b[0m\u001b[0;34m)\u001b[0m\u001b[0;34m,\u001b[0m \u001b[0mseed_simulator\u001b[0m \u001b[0;34m=\u001b[0m \u001b[0;36m42\u001b[0m\u001b[0;34m,\u001b[0m \u001b[0mseed_transpiler\u001b[0m \u001b[0;34m=\u001b[0m \u001b[0;36m42\u001b[0m\u001b[0;34m)\u001b[0m\u001b[0;34m.\u001b[0m\u001b[0mresult\u001b[0m\u001b[0;34m(\u001b[0m\u001b[0;34m)\u001b[0m\u001b[0;34m)\u001b[0m\u001b[0;34m\u001b[0m\u001b[0;34m\u001b[0m\u001b[0m\n\u001b[0m\u001b[1;32m     20\u001b[0m         \u001b[0;31m# print(i, \"...\", ii, \"th measurement finished\")\u001b[0m\u001b[0;34m\u001b[0m\u001b[0;34m\u001b[0m\u001b[0m\n\u001b[1;32m     21\u001b[0m     \u001b[0mcounts\u001b[0m \u001b[0;34m=\u001b[0m \u001b[0;34m[\u001b[0m\u001b[0;34m]\u001b[0m\u001b[0;34m\u001b[0m\u001b[0;34m\u001b[0m\u001b[0m\n",
      "\u001b[0;32m~/opt/anaconda3/envs/qiskitenv/lib/python3.9/site-packages/qiskit/execute_function.py\u001b[0m in \u001b[0;36mexecute\u001b[0;34m(experiments, backend, basis_gates, coupling_map, backend_properties, initial_layout, seed_transpiler, optimization_level, pass_manager, qobj_id, qobj_header, shots, memory, max_credits, seed_simulator, default_qubit_los, default_meas_los, qubit_lo_range, meas_lo_range, schedule_los, meas_level, meas_return, memory_slots, memory_slot_size, rep_time, rep_delay, parameter_binds, schedule_circuit, inst_map, meas_map, scheduling_method, init_qubits, **run_config)\u001b[0m\n\u001b[1;32m    292\u001b[0m     \u001b[0;32melse\u001b[0m\u001b[0;34m:\u001b[0m\u001b[0;34m\u001b[0m\u001b[0;34m\u001b[0m\u001b[0m\n\u001b[1;32m    293\u001b[0m         \u001b[0;31m# transpiling the circuits using given transpile options\u001b[0m\u001b[0;34m\u001b[0m\u001b[0;34m\u001b[0m\u001b[0m\n\u001b[0;32m--> 294\u001b[0;31m         experiments = transpile(\n\u001b[0m\u001b[1;32m    295\u001b[0m             \u001b[0mexperiments\u001b[0m\u001b[0;34m,\u001b[0m\u001b[0;34m\u001b[0m\u001b[0;34m\u001b[0m\u001b[0m\n\u001b[1;32m    296\u001b[0m             \u001b[0mbasis_gates\u001b[0m\u001b[0;34m=\u001b[0m\u001b[0mbasis_gates\u001b[0m\u001b[0;34m,\u001b[0m\u001b[0;34m\u001b[0m\u001b[0;34m\u001b[0m\u001b[0m\n",
      "\u001b[0;32m~/opt/anaconda3/envs/qiskitenv/lib/python3.9/site-packages/qiskit/compiler/transpiler.py\u001b[0m in \u001b[0;36mtranspile\u001b[0;34m(circuits, backend, basis_gates, coupling_map, backend_properties, initial_layout, layout_method, routing_method, translation_method, scheduling_method, instruction_durations, dt, approximation_degree, timing_constraints, seed_transpiler, optimization_level, pass_manager, callback, output_name)\u001b[0m\n\u001b[1;32m    291\u001b[0m \u001b[0;34m\u001b[0m\u001b[0m\n\u001b[1;32m    292\u001b[0m     \u001b[0;31m# Transpile circuits in parallel\u001b[0m\u001b[0;34m\u001b[0m\u001b[0;34m\u001b[0m\u001b[0m\n\u001b[0;32m--> 293\u001b[0;31m     \u001b[0mcircuits\u001b[0m \u001b[0;34m=\u001b[0m \u001b[0mparallel_map\u001b[0m\u001b[0;34m(\u001b[0m\u001b[0m_transpile_circuit\u001b[0m\u001b[0;34m,\u001b[0m \u001b[0mlist\u001b[0m\u001b[0;34m(\u001b[0m\u001b[0mzip\u001b[0m\u001b[0;34m(\u001b[0m\u001b[0mcircuits\u001b[0m\u001b[0;34m,\u001b[0m \u001b[0mtranspile_args\u001b[0m\u001b[0;34m)\u001b[0m\u001b[0;34m)\u001b[0m\u001b[0;34m)\u001b[0m\u001b[0;34m\u001b[0m\u001b[0;34m\u001b[0m\u001b[0m\n\u001b[0m\u001b[1;32m    294\u001b[0m \u001b[0;34m\u001b[0m\u001b[0m\n\u001b[1;32m    295\u001b[0m     \u001b[0mend_time\u001b[0m \u001b[0;34m=\u001b[0m \u001b[0mtime\u001b[0m\u001b[0;34m(\u001b[0m\u001b[0;34m)\u001b[0m\u001b[0;34m\u001b[0m\u001b[0;34m\u001b[0m\u001b[0m\n",
      "\u001b[0;32m~/opt/anaconda3/envs/qiskitenv/lib/python3.9/site-packages/qiskit/tools/parallel.py\u001b[0m in \u001b[0;36mparallel_map\u001b[0;34m(task, values, task_args, task_kwargs, num_processes)\u001b[0m\n\u001b[1;32m    130\u001b[0m         \u001b[0;32mreturn\u001b[0m \u001b[0;34m[\u001b[0m\u001b[0;34m]\u001b[0m\u001b[0;34m\u001b[0m\u001b[0;34m\u001b[0m\u001b[0m\n\u001b[1;32m    131\u001b[0m     \u001b[0;32mif\u001b[0m \u001b[0mlen\u001b[0m\u001b[0;34m(\u001b[0m\u001b[0mvalues\u001b[0m\u001b[0;34m)\u001b[0m \u001b[0;34m==\u001b[0m \u001b[0;36m1\u001b[0m\u001b[0;34m:\u001b[0m\u001b[0;34m\u001b[0m\u001b[0;34m\u001b[0m\u001b[0m\n\u001b[0;32m--> 132\u001b[0;31m         \u001b[0;32mreturn\u001b[0m \u001b[0;34m[\u001b[0m\u001b[0mtask\u001b[0m\u001b[0;34m(\u001b[0m\u001b[0mvalues\u001b[0m\u001b[0;34m[\u001b[0m\u001b[0;36m0\u001b[0m\u001b[0;34m]\u001b[0m\u001b[0;34m,\u001b[0m \u001b[0;34m*\u001b[0m\u001b[0mtask_args\u001b[0m\u001b[0;34m,\u001b[0m \u001b[0;34m**\u001b[0m\u001b[0mtask_kwargs\u001b[0m\u001b[0;34m)\u001b[0m\u001b[0;34m]\u001b[0m\u001b[0;34m\u001b[0m\u001b[0;34m\u001b[0m\u001b[0m\n\u001b[0m\u001b[1;32m    133\u001b[0m \u001b[0;34m\u001b[0m\u001b[0m\n\u001b[1;32m    134\u001b[0m     \u001b[0mPublisher\u001b[0m\u001b[0;34m(\u001b[0m\u001b[0;34m)\u001b[0m\u001b[0;34m.\u001b[0m\u001b[0mpublish\u001b[0m\u001b[0;34m(\u001b[0m\u001b[0;34m\"terra.parallel.start\"\u001b[0m\u001b[0;34m,\u001b[0m \u001b[0mlen\u001b[0m\u001b[0;34m(\u001b[0m\u001b[0mvalues\u001b[0m\u001b[0;34m)\u001b[0m\u001b[0;34m)\u001b[0m\u001b[0;34m\u001b[0m\u001b[0;34m\u001b[0m\u001b[0m\n",
      "\u001b[0;32m~/opt/anaconda3/envs/qiskitenv/lib/python3.9/site-packages/qiskit/compiler/transpiler.py\u001b[0m in \u001b[0;36m_transpile_circuit\u001b[0;34m(circuit_config_tuple)\u001b[0m\n\u001b[1;32m    378\u001b[0m         \u001b[0;32mraise\u001b[0m \u001b[0mTranspilerError\u001b[0m\u001b[0;34m(\u001b[0m\u001b[0;34m\"optimization_level can range from 0 to 3.\"\u001b[0m\u001b[0;34m)\u001b[0m\u001b[0;34m\u001b[0m\u001b[0;34m\u001b[0m\u001b[0m\n\u001b[1;32m    379\u001b[0m \u001b[0;34m\u001b[0m\u001b[0m\n\u001b[0;32m--> 380\u001b[0;31m     result = pass_manager.run(\n\u001b[0m\u001b[1;32m    381\u001b[0m         \u001b[0mcircuit\u001b[0m\u001b[0;34m,\u001b[0m \u001b[0mcallback\u001b[0m\u001b[0;34m=\u001b[0m\u001b[0mtranspile_config\u001b[0m\u001b[0;34m[\u001b[0m\u001b[0;34m\"callback\"\u001b[0m\u001b[0;34m]\u001b[0m\u001b[0;34m,\u001b[0m \u001b[0moutput_name\u001b[0m\u001b[0;34m=\u001b[0m\u001b[0mtranspile_config\u001b[0m\u001b[0;34m[\u001b[0m\u001b[0;34m\"output_name\"\u001b[0m\u001b[0;34m]\u001b[0m\u001b[0;34m\u001b[0m\u001b[0;34m\u001b[0m\u001b[0m\n\u001b[1;32m    382\u001b[0m     )\n",
      "\u001b[0;32m~/opt/anaconda3/envs/qiskitenv/lib/python3.9/site-packages/qiskit/transpiler/passmanager.py\u001b[0m in \u001b[0;36mrun\u001b[0;34m(self, circuits, output_name, callback)\u001b[0m\n\u001b[1;32m    214\u001b[0m         \"\"\"\n\u001b[1;32m    215\u001b[0m         \u001b[0;32mif\u001b[0m \u001b[0misinstance\u001b[0m\u001b[0;34m(\u001b[0m\u001b[0mcircuits\u001b[0m\u001b[0;34m,\u001b[0m \u001b[0mQuantumCircuit\u001b[0m\u001b[0;34m)\u001b[0m\u001b[0;34m:\u001b[0m\u001b[0;34m\u001b[0m\u001b[0;34m\u001b[0m\u001b[0m\n\u001b[0;32m--> 216\u001b[0;31m             \u001b[0;32mreturn\u001b[0m \u001b[0mself\u001b[0m\u001b[0;34m.\u001b[0m\u001b[0m_run_single_circuit\u001b[0m\u001b[0;34m(\u001b[0m\u001b[0mcircuits\u001b[0m\u001b[0;34m,\u001b[0m \u001b[0moutput_name\u001b[0m\u001b[0;34m,\u001b[0m \u001b[0mcallback\u001b[0m\u001b[0;34m)\u001b[0m\u001b[0;34m\u001b[0m\u001b[0;34m\u001b[0m\u001b[0m\n\u001b[0m\u001b[1;32m    217\u001b[0m         \u001b[0;32melif\u001b[0m \u001b[0mlen\u001b[0m\u001b[0;34m(\u001b[0m\u001b[0mcircuits\u001b[0m\u001b[0;34m)\u001b[0m \u001b[0;34m==\u001b[0m \u001b[0;36m1\u001b[0m\u001b[0;34m:\u001b[0m\u001b[0;34m\u001b[0m\u001b[0;34m\u001b[0m\u001b[0m\n\u001b[1;32m    218\u001b[0m             \u001b[0;32mreturn\u001b[0m \u001b[0mself\u001b[0m\u001b[0;34m.\u001b[0m\u001b[0m_run_single_circuit\u001b[0m\u001b[0;34m(\u001b[0m\u001b[0mcircuits\u001b[0m\u001b[0;34m[\u001b[0m\u001b[0;36m0\u001b[0m\u001b[0;34m]\u001b[0m\u001b[0;34m,\u001b[0m \u001b[0moutput_name\u001b[0m\u001b[0;34m,\u001b[0m \u001b[0mcallback\u001b[0m\u001b[0;34m)\u001b[0m\u001b[0;34m\u001b[0m\u001b[0;34m\u001b[0m\u001b[0m\n",
      "\u001b[0;32m~/opt/anaconda3/envs/qiskitenv/lib/python3.9/site-packages/qiskit/transpiler/passmanager.py\u001b[0m in \u001b[0;36m_run_single_circuit\u001b[0;34m(self, circuit, output_name, callback)\u001b[0m\n\u001b[1;32m    270\u001b[0m         \"\"\"\n\u001b[1;32m    271\u001b[0m         \u001b[0mrunning_passmanager\u001b[0m \u001b[0;34m=\u001b[0m \u001b[0mself\u001b[0m\u001b[0;34m.\u001b[0m\u001b[0m_create_running_passmanager\u001b[0m\u001b[0;34m(\u001b[0m\u001b[0;34m)\u001b[0m\u001b[0;34m\u001b[0m\u001b[0;34m\u001b[0m\u001b[0m\n\u001b[0;32m--> 272\u001b[0;31m         \u001b[0mresult\u001b[0m \u001b[0;34m=\u001b[0m \u001b[0mrunning_passmanager\u001b[0m\u001b[0;34m.\u001b[0m\u001b[0mrun\u001b[0m\u001b[0;34m(\u001b[0m\u001b[0mcircuit\u001b[0m\u001b[0;34m,\u001b[0m \u001b[0moutput_name\u001b[0m\u001b[0;34m=\u001b[0m\u001b[0moutput_name\u001b[0m\u001b[0;34m,\u001b[0m \u001b[0mcallback\u001b[0m\u001b[0;34m=\u001b[0m\u001b[0mcallback\u001b[0m\u001b[0;34m)\u001b[0m\u001b[0;34m\u001b[0m\u001b[0;34m\u001b[0m\u001b[0m\n\u001b[0m\u001b[1;32m    273\u001b[0m         \u001b[0mself\u001b[0m\u001b[0;34m.\u001b[0m\u001b[0mproperty_set\u001b[0m \u001b[0;34m=\u001b[0m \u001b[0mrunning_passmanager\u001b[0m\u001b[0;34m.\u001b[0m\u001b[0mproperty_set\u001b[0m\u001b[0;34m\u001b[0m\u001b[0;34m\u001b[0m\u001b[0m\n\u001b[1;32m    274\u001b[0m         \u001b[0;32mreturn\u001b[0m \u001b[0mresult\u001b[0m\u001b[0;34m\u001b[0m\u001b[0;34m\u001b[0m\u001b[0m\n",
      "\u001b[0;32m~/opt/anaconda3/envs/qiskitenv/lib/python3.9/site-packages/qiskit/transpiler/runningpassmanager.py\u001b[0m in \u001b[0;36mrun\u001b[0;34m(***failed resolving arguments***)\u001b[0m\n\u001b[1;32m    121\u001b[0m         \u001b[0;32mfor\u001b[0m \u001b[0mpassset\u001b[0m \u001b[0;32min\u001b[0m \u001b[0mself\u001b[0m\u001b[0;34m.\u001b[0m\u001b[0mworking_list\u001b[0m\u001b[0;34m:\u001b[0m\u001b[0;34m\u001b[0m\u001b[0;34m\u001b[0m\u001b[0m\n\u001b[1;32m    122\u001b[0m             \u001b[0;32mfor\u001b[0m \u001b[0mpass_\u001b[0m \u001b[0;32min\u001b[0m \u001b[0mpassset\u001b[0m\u001b[0;34m:\u001b[0m\u001b[0;34m\u001b[0m\u001b[0;34m\u001b[0m\u001b[0m\n\u001b[0;32m--> 123\u001b[0;31m                 \u001b[0mdag\u001b[0m \u001b[0;34m=\u001b[0m \u001b[0mself\u001b[0m\u001b[0;34m.\u001b[0m\u001b[0m_do_pass\u001b[0m\u001b[0;34m(\u001b[0m\u001b[0mpass_\u001b[0m\u001b[0;34m,\u001b[0m \u001b[0mdag\u001b[0m\u001b[0;34m,\u001b[0m \u001b[0mpassset\u001b[0m\u001b[0;34m.\u001b[0m\u001b[0moptions\u001b[0m\u001b[0;34m)\u001b[0m\u001b[0;34m\u001b[0m\u001b[0;34m\u001b[0m\u001b[0m\n\u001b[0m\u001b[1;32m    124\u001b[0m \u001b[0;34m\u001b[0m\u001b[0m\n\u001b[1;32m    125\u001b[0m         \u001b[0mcircuit\u001b[0m \u001b[0;34m=\u001b[0m \u001b[0mdag_to_circuit\u001b[0m\u001b[0;34m(\u001b[0m\u001b[0mdag\u001b[0m\u001b[0;34m)\u001b[0m\u001b[0;34m\u001b[0m\u001b[0;34m\u001b[0m\u001b[0m\n",
      "\u001b[0;32m~/opt/anaconda3/envs/qiskitenv/lib/python3.9/site-packages/qiskit/transpiler/runningpassmanager.py\u001b[0m in \u001b[0;36m_do_pass\u001b[0;34m(self, pass_, dag, options)\u001b[0m\n\u001b[1;32m    152\u001b[0m         \u001b[0;31m# Run the pass itself, if not already run\u001b[0m\u001b[0;34m\u001b[0m\u001b[0;34m\u001b[0m\u001b[0m\n\u001b[1;32m    153\u001b[0m         \u001b[0;32mif\u001b[0m \u001b[0mpass_\u001b[0m \u001b[0;32mnot\u001b[0m \u001b[0;32min\u001b[0m \u001b[0mself\u001b[0m\u001b[0;34m.\u001b[0m\u001b[0mvalid_passes\u001b[0m\u001b[0;34m:\u001b[0m\u001b[0;34m\u001b[0m\u001b[0;34m\u001b[0m\u001b[0m\n\u001b[0;32m--> 154\u001b[0;31m             \u001b[0mdag\u001b[0m \u001b[0;34m=\u001b[0m \u001b[0mself\u001b[0m\u001b[0;34m.\u001b[0m\u001b[0m_run_this_pass\u001b[0m\u001b[0;34m(\u001b[0m\u001b[0mpass_\u001b[0m\u001b[0;34m,\u001b[0m \u001b[0mdag\u001b[0m\u001b[0;34m)\u001b[0m\u001b[0;34m\u001b[0m\u001b[0;34m\u001b[0m\u001b[0m\n\u001b[0m\u001b[1;32m    155\u001b[0m \u001b[0;34m\u001b[0m\u001b[0m\n\u001b[1;32m    156\u001b[0m             \u001b[0;31m# update the valid_passes property\u001b[0m\u001b[0;34m\u001b[0m\u001b[0;34m\u001b[0m\u001b[0m\n",
      "\u001b[0;32m~/opt/anaconda3/envs/qiskitenv/lib/python3.9/site-packages/qiskit/transpiler/runningpassmanager.py\u001b[0m in \u001b[0;36m_run_this_pass\u001b[0;34m(self, pass_, dag)\u001b[0m\n\u001b[1;32m    164\u001b[0m             \u001b[0;31m# Measure time if we have a callback or logging set\u001b[0m\u001b[0;34m\u001b[0m\u001b[0;34m\u001b[0m\u001b[0m\n\u001b[1;32m    165\u001b[0m             \u001b[0mstart_time\u001b[0m \u001b[0;34m=\u001b[0m \u001b[0mtime\u001b[0m\u001b[0;34m(\u001b[0m\u001b[0;34m)\u001b[0m\u001b[0;34m\u001b[0m\u001b[0;34m\u001b[0m\u001b[0m\n\u001b[0;32m--> 166\u001b[0;31m             \u001b[0mnew_dag\u001b[0m \u001b[0;34m=\u001b[0m \u001b[0mpass_\u001b[0m\u001b[0;34m.\u001b[0m\u001b[0mrun\u001b[0m\u001b[0;34m(\u001b[0m\u001b[0mdag\u001b[0m\u001b[0;34m)\u001b[0m\u001b[0;34m\u001b[0m\u001b[0;34m\u001b[0m\u001b[0m\n\u001b[0m\u001b[1;32m    167\u001b[0m             \u001b[0mend_time\u001b[0m \u001b[0;34m=\u001b[0m \u001b[0mtime\u001b[0m\u001b[0;34m(\u001b[0m\u001b[0;34m)\u001b[0m\u001b[0;34m\u001b[0m\u001b[0;34m\u001b[0m\u001b[0m\n\u001b[1;32m    168\u001b[0m             \u001b[0mrun_time\u001b[0m \u001b[0;34m=\u001b[0m \u001b[0mend_time\u001b[0m \u001b[0;34m-\u001b[0m \u001b[0mstart_time\u001b[0m\u001b[0;34m\u001b[0m\u001b[0;34m\u001b[0m\u001b[0m\n",
      "\u001b[0;32m~/opt/anaconda3/envs/qiskitenv/lib/python3.9/site-packages/qiskit/transpiler/passes/optimization/optimize_1q_decomposition.py\u001b[0m in \u001b[0;36mrun\u001b[0;34m(self, dag)\u001b[0m\n\u001b[1;32m     94\u001b[0m                 \u001b[0moperator\u001b[0m \u001b[0;34m=\u001b[0m \u001b[0mgate\u001b[0m\u001b[0;34m.\u001b[0m\u001b[0mop\u001b[0m\u001b[0;34m.\u001b[0m\u001b[0mto_matrix\u001b[0m\u001b[0;34m(\u001b[0m\u001b[0;34m)\u001b[0m\u001b[0;34m.\u001b[0m\u001b[0mdot\u001b[0m\u001b[0;34m(\u001b[0m\u001b[0moperator\u001b[0m\u001b[0;34m)\u001b[0m\u001b[0;34m\u001b[0m\u001b[0;34m\u001b[0m\u001b[0m\n\u001b[1;32m     95\u001b[0m \u001b[0;34m\u001b[0m\u001b[0m\n\u001b[0;32m---> 96\u001b[0;31m             \u001b[0mnew_circs\u001b[0m \u001b[0;34m=\u001b[0m \u001b[0;34m{\u001b[0m\u001b[0mk\u001b[0m\u001b[0;34m:\u001b[0m \u001b[0mv\u001b[0m\u001b[0;34m.\u001b[0m\u001b[0m_decompose\u001b[0m\u001b[0;34m(\u001b[0m\u001b[0moperator\u001b[0m\u001b[0;34m)\u001b[0m \u001b[0;32mfor\u001b[0m \u001b[0mk\u001b[0m\u001b[0;34m,\u001b[0m \u001b[0mv\u001b[0m \u001b[0;32min\u001b[0m \u001b[0mself\u001b[0m\u001b[0;34m.\u001b[0m\u001b[0m_decomposers\u001b[0m\u001b[0;34m.\u001b[0m\u001b[0mitems\u001b[0m\u001b[0;34m(\u001b[0m\u001b[0;34m)\u001b[0m\u001b[0;34m}\u001b[0m\u001b[0;34m\u001b[0m\u001b[0;34m\u001b[0m\u001b[0m\n\u001b[0m\u001b[1;32m     97\u001b[0m \u001b[0;34m\u001b[0m\u001b[0m\n\u001b[1;32m     98\u001b[0m             \u001b[0;32mif\u001b[0m \u001b[0mlen\u001b[0m\u001b[0;34m(\u001b[0m\u001b[0mnew_circs\u001b[0m\u001b[0;34m)\u001b[0m \u001b[0;34m>\u001b[0m \u001b[0;36m0\u001b[0m\u001b[0;34m:\u001b[0m\u001b[0;34m\u001b[0m\u001b[0;34m\u001b[0m\u001b[0m\n",
      "\u001b[0;32m~/opt/anaconda3/envs/qiskitenv/lib/python3.9/site-packages/qiskit/transpiler/passes/optimization/optimize_1q_decomposition.py\u001b[0m in \u001b[0;36m<dictcomp>\u001b[0;34m(.0)\u001b[0m\n\u001b[1;32m     94\u001b[0m                 \u001b[0moperator\u001b[0m \u001b[0;34m=\u001b[0m \u001b[0mgate\u001b[0m\u001b[0;34m.\u001b[0m\u001b[0mop\u001b[0m\u001b[0;34m.\u001b[0m\u001b[0mto_matrix\u001b[0m\u001b[0;34m(\u001b[0m\u001b[0;34m)\u001b[0m\u001b[0;34m.\u001b[0m\u001b[0mdot\u001b[0m\u001b[0;34m(\u001b[0m\u001b[0moperator\u001b[0m\u001b[0;34m)\u001b[0m\u001b[0;34m\u001b[0m\u001b[0;34m\u001b[0m\u001b[0m\n\u001b[1;32m     95\u001b[0m \u001b[0;34m\u001b[0m\u001b[0m\n\u001b[0;32m---> 96\u001b[0;31m             \u001b[0mnew_circs\u001b[0m \u001b[0;34m=\u001b[0m \u001b[0;34m{\u001b[0m\u001b[0mk\u001b[0m\u001b[0;34m:\u001b[0m \u001b[0mv\u001b[0m\u001b[0;34m.\u001b[0m\u001b[0m_decompose\u001b[0m\u001b[0;34m(\u001b[0m\u001b[0moperator\u001b[0m\u001b[0;34m)\u001b[0m \u001b[0;32mfor\u001b[0m \u001b[0mk\u001b[0m\u001b[0;34m,\u001b[0m \u001b[0mv\u001b[0m \u001b[0;32min\u001b[0m \u001b[0mself\u001b[0m\u001b[0;34m.\u001b[0m\u001b[0m_decomposers\u001b[0m\u001b[0;34m.\u001b[0m\u001b[0mitems\u001b[0m\u001b[0;34m(\u001b[0m\u001b[0;34m)\u001b[0m\u001b[0;34m}\u001b[0m\u001b[0;34m\u001b[0m\u001b[0;34m\u001b[0m\u001b[0m\n\u001b[0m\u001b[1;32m     97\u001b[0m \u001b[0;34m\u001b[0m\u001b[0m\n\u001b[1;32m     98\u001b[0m             \u001b[0;32mif\u001b[0m \u001b[0mlen\u001b[0m\u001b[0;34m(\u001b[0m\u001b[0mnew_circs\u001b[0m\u001b[0;34m)\u001b[0m \u001b[0;34m>\u001b[0m \u001b[0;36m0\u001b[0m\u001b[0;34m:\u001b[0m\u001b[0;34m\u001b[0m\u001b[0;34m\u001b[0m\u001b[0m\n",
      "\u001b[0;32m~/opt/anaconda3/envs/qiskitenv/lib/python3.9/site-packages/qiskit/quantum_info/synthesis/one_qubit_decompose.py\u001b[0m in \u001b[0;36m_decompose\u001b[0;34m(self, unitary, simplify, atol)\u001b[0m\n\u001b[1;32m    166\u001b[0m     \u001b[0;32mdef\u001b[0m \u001b[0m_decompose\u001b[0m\u001b[0;34m(\u001b[0m\u001b[0mself\u001b[0m\u001b[0;34m,\u001b[0m \u001b[0munitary\u001b[0m\u001b[0;34m,\u001b[0m \u001b[0msimplify\u001b[0m\u001b[0;34m=\u001b[0m\u001b[0;32mTrue\u001b[0m\u001b[0;34m,\u001b[0m \u001b[0matol\u001b[0m\u001b[0;34m=\u001b[0m\u001b[0mDEFAULT_ATOL\u001b[0m\u001b[0;34m)\u001b[0m\u001b[0;34m:\u001b[0m\u001b[0;34m\u001b[0m\u001b[0;34m\u001b[0m\u001b[0m\n\u001b[1;32m    167\u001b[0m         \u001b[0mtheta\u001b[0m\u001b[0;34m,\u001b[0m \u001b[0mphi\u001b[0m\u001b[0;34m,\u001b[0m \u001b[0mlam\u001b[0m\u001b[0;34m,\u001b[0m \u001b[0mphase\u001b[0m \u001b[0;34m=\u001b[0m \u001b[0mself\u001b[0m\u001b[0;34m.\u001b[0m\u001b[0m_params\u001b[0m\u001b[0;34m(\u001b[0m\u001b[0munitary\u001b[0m\u001b[0;34m)\u001b[0m\u001b[0;34m\u001b[0m\u001b[0;34m\u001b[0m\u001b[0m\n\u001b[0;32m--> 168\u001b[0;31m         \u001b[0mcircuit\u001b[0m \u001b[0;34m=\u001b[0m \u001b[0mself\u001b[0m\u001b[0;34m.\u001b[0m\u001b[0m_circuit\u001b[0m\u001b[0;34m(\u001b[0m\u001b[0mtheta\u001b[0m\u001b[0;34m,\u001b[0m \u001b[0mphi\u001b[0m\u001b[0;34m,\u001b[0m \u001b[0mlam\u001b[0m\u001b[0;34m,\u001b[0m \u001b[0mphase\u001b[0m\u001b[0;34m,\u001b[0m \u001b[0msimplify\u001b[0m\u001b[0;34m=\u001b[0m\u001b[0msimplify\u001b[0m\u001b[0;34m,\u001b[0m \u001b[0matol\u001b[0m\u001b[0;34m=\u001b[0m\u001b[0matol\u001b[0m\u001b[0;34m)\u001b[0m\u001b[0;34m\u001b[0m\u001b[0;34m\u001b[0m\u001b[0m\n\u001b[0m\u001b[1;32m    169\u001b[0m         \u001b[0;32mreturn\u001b[0m \u001b[0mcircuit\u001b[0m\u001b[0;34m\u001b[0m\u001b[0;34m\u001b[0m\u001b[0m\n\u001b[1;32m    170\u001b[0m \u001b[0;34m\u001b[0m\u001b[0m\n",
      "\u001b[0;32m~/opt/anaconda3/envs/qiskitenv/lib/python3.9/site-packages/qiskit/quantum_info/synthesis/one_qubit_decompose.py\u001b[0m in \u001b[0;36m_circuit_rr\u001b[0;34m(theta, phi, lam, phase, simplify, atol)\u001b[0m\n\u001b[1;32m    585\u001b[0m         \u001b[0;32mif\u001b[0m \u001b[0mabs\u001b[0m\u001b[0;34m(\u001b[0m\u001b[0mtheta\u001b[0m \u001b[0;34m-\u001b[0m \u001b[0mnp\u001b[0m\u001b[0;34m.\u001b[0m\u001b[0mpi\u001b[0m\u001b[0;34m)\u001b[0m \u001b[0;34m>\u001b[0m \u001b[0matol\u001b[0m\u001b[0;34m:\u001b[0m\u001b[0;34m\u001b[0m\u001b[0;34m\u001b[0m\u001b[0m\n\u001b[1;32m    586\u001b[0m             \u001b[0mcircuit\u001b[0m\u001b[0;34m.\u001b[0m\u001b[0m_append\u001b[0m\u001b[0;34m(\u001b[0m\u001b[0mRGate\u001b[0m\u001b[0;34m(\u001b[0m\u001b[0mtheta\u001b[0m \u001b[0;34m-\u001b[0m \u001b[0mnp\u001b[0m\u001b[0;34m.\u001b[0m\u001b[0mpi\u001b[0m\u001b[0;34m,\u001b[0m \u001b[0m_mod_2pi\u001b[0m\u001b[0;34m(\u001b[0m\u001b[0mnp\u001b[0m\u001b[0;34m.\u001b[0m\u001b[0mpi\u001b[0m \u001b[0;34m/\u001b[0m \u001b[0;36m2\u001b[0m \u001b[0;34m-\u001b[0m \u001b[0mlam\u001b[0m\u001b[0;34m,\u001b[0m \u001b[0matol\u001b[0m\u001b[0;34m)\u001b[0m\u001b[0;34m)\u001b[0m\u001b[0;34m,\u001b[0m \u001b[0;34m[\u001b[0m\u001b[0mqr\u001b[0m\u001b[0;34m[\u001b[0m\u001b[0;36m0\u001b[0m\u001b[0;34m]\u001b[0m\u001b[0;34m]\u001b[0m\u001b[0;34m,\u001b[0m \u001b[0;34m[\u001b[0m\u001b[0;34m]\u001b[0m\u001b[0;34m)\u001b[0m\u001b[0;34m\u001b[0m\u001b[0;34m\u001b[0m\u001b[0m\n\u001b[0;32m--> 587\u001b[0;31m         \u001b[0mcircuit\u001b[0m\u001b[0;34m.\u001b[0m\u001b[0m_append\u001b[0m\u001b[0;34m(\u001b[0m\u001b[0mRGate\u001b[0m\u001b[0;34m(\u001b[0m\u001b[0mnp\u001b[0m\u001b[0;34m.\u001b[0m\u001b[0mpi\u001b[0m\u001b[0;34m,\u001b[0m \u001b[0m_mod_2pi\u001b[0m\u001b[0;34m(\u001b[0m\u001b[0;36m0.5\u001b[0m \u001b[0;34m*\u001b[0m \u001b[0;34m(\u001b[0m\u001b[0mphi\u001b[0m \u001b[0;34m-\u001b[0m \u001b[0mlam\u001b[0m \u001b[0;34m+\u001b[0m \u001b[0mnp\u001b[0m\u001b[0;34m.\u001b[0m\u001b[0mpi\u001b[0m\u001b[0;34m)\u001b[0m\u001b[0;34m,\u001b[0m \u001b[0matol\u001b[0m\u001b[0;34m)\u001b[0m\u001b[0;34m)\u001b[0m\u001b[0;34m,\u001b[0m \u001b[0;34m[\u001b[0m\u001b[0mqr\u001b[0m\u001b[0;34m[\u001b[0m\u001b[0;36m0\u001b[0m\u001b[0;34m]\u001b[0m\u001b[0;34m]\u001b[0m\u001b[0;34m,\u001b[0m \u001b[0;34m[\u001b[0m\u001b[0;34m]\u001b[0m\u001b[0;34m)\u001b[0m\u001b[0;34m\u001b[0m\u001b[0;34m\u001b[0m\u001b[0m\n\u001b[0m\u001b[1;32m    588\u001b[0m         \u001b[0;32mreturn\u001b[0m \u001b[0mcircuit\u001b[0m\u001b[0;34m\u001b[0m\u001b[0;34m\u001b[0m\u001b[0m\n\u001b[1;32m    589\u001b[0m \u001b[0;34m\u001b[0m\u001b[0m\n",
      "\u001b[0;31mKeyboardInterrupt\u001b[0m: "
     ]
    }
   ],
   "source": [
    "train_data_RC = []\n",
    "O = 100\n",
    "for i in range(O):\n",
    "    \n",
    "    print(i, \"th data generation started\")\n",
    "    \n",
    "    t1 = time.time()\n",
    "    \n",
    "    # generation of measurement outcomes\n",
    "    results = []\n",
    "    basis = qi.random_unitary(2 ** Nq, seed = seed).to_instruction()\n",
    "    seed += 1\n",
    "    for ii in range(1, Nu + 1):\n",
    "        qc = QuantumCircuit(Nq, Nq)\n",
    "        qc.append(basis, range(Nq))\n",
    "        seed += 1\n",
    "        qc.append(qi.random_clifford(Nq, seed = seed).to_instruction(), range(Nq))\n",
    "        qc.measure(range(Nq), range(Nq)[::-1])\n",
    "        results.append(execute(qc, shots = Ns, backend = Aer.get_backend(\"qasm_simulator\"), seed_simulator = 42, seed_transpiler = 42).result())\n",
    "        # print(i, \"...\", ii, \"th measurement finished\")\n",
    "    counts = []\n",
    "    for result in results:\n",
    "        counts.append(result.get_counts())\n",
    "    \n",
    "    # generation of input data\n",
    "    train = []\n",
    "    for k in range(1,5):\n",
    "        j = get_j(Nq, k)\n",
    "        for k_ in range(1,8):\n",
    "            res = get_moment_correlation_J( k_, Nu, counts, j, Ns)\n",
    "            train.append(res)\n",
    "    train_data_RC.append(train)\n",
    "    \n",
    "    t2 = time.time()\n",
    "    \n",
    "    print(i, \"th data generation finished, time:\", t2 - t1, \"s\")"
   ]
  },
  {
   "cell_type": "code",
   "execution_count": 9,
   "id": "8f64c31f",
   "metadata": {},
   "outputs": [
    {
     "name": "stdout",
     "output_type": "stream",
     "text": [
      "0 th data generation started\n",
      "0 th data generation finished, time: 1.052583932876587 s\n",
      "1 th data generation started\n",
      "1 th data generation finished, time: 1.088141679763794 s\n",
      "2 th data generation started\n",
      "2 th data generation finished, time: 1.0591378211975098 s\n",
      "3 th data generation started\n",
      "3 th data generation finished, time: 1.077876091003418 s\n",
      "4 th data generation started\n",
      "4 th data generation finished, time: 1.0893502235412598 s\n",
      "5 th data generation started\n",
      "5 th data generation finished, time: 1.1076128482818604 s\n",
      "6 th data generation started\n",
      "6 th data generation finished, time: 1.175745964050293 s\n",
      "7 th data generation started\n",
      "7 th data generation finished, time: 1.0590651035308838 s\n",
      "8 th data generation started\n",
      "8 th data generation finished, time: 1.1591951847076416 s\n",
      "9 th data generation started\n",
      "9 th data generation finished, time: 1.0469539165496826 s\n",
      "10 th data generation started\n",
      "10 th data generation finished, time: 1.0243690013885498 s\n",
      "11 th data generation started\n",
      "11 th data generation finished, time: 1.0225160121917725 s\n",
      "12 th data generation started\n",
      "12 th data generation finished, time: 1.028414011001587 s\n",
      "13 th data generation started\n",
      "13 th data generation finished, time: 1.102613925933838 s\n",
      "14 th data generation started\n",
      "14 th data generation finished, time: 1.0570077896118164 s\n",
      "15 th data generation started\n",
      "15 th data generation finished, time: 1.0383789539337158 s\n",
      "16 th data generation started\n",
      "16 th data generation finished, time: 1.0376250743865967 s\n",
      "17 th data generation started\n",
      "17 th data generation finished, time: 1.1172399520874023 s\n",
      "18 th data generation started\n",
      "18 th data generation finished, time: 1.055279016494751 s\n",
      "19 th data generation started\n",
      "19 th data generation finished, time: 1.1739258766174316 s\n",
      "20 th data generation started\n",
      "20 th data generation finished, time: 1.0756707191467285 s\n",
      "21 th data generation started\n",
      "21 th data generation finished, time: 1.0570068359375 s\n",
      "22 th data generation started\n",
      "22 th data generation finished, time: 1.120157241821289 s\n",
      "23 th data generation started\n",
      "23 th data generation finished, time: 1.0896008014678955 s\n",
      "24 th data generation started\n",
      "24 th data generation finished, time: 1.0791759490966797 s\n",
      "25 th data generation started\n",
      "25 th data generation finished, time: 1.076767921447754 s\n",
      "26 th data generation started\n",
      "26 th data generation finished, time: 1.1989340782165527 s\n",
      "27 th data generation started\n",
      "27 th data generation finished, time: 1.0488131046295166 s\n",
      "28 th data generation started\n",
      "28 th data generation finished, time: 1.022629976272583 s\n",
      "29 th data generation started\n",
      "29 th data generation finished, time: 1.1037447452545166 s\n",
      "30 th data generation started\n",
      "30 th data generation finished, time: 1.0272040367126465 s\n",
      "31 th data generation started\n",
      "31 th data generation finished, time: 0.9286298751831055 s\n",
      "32 th data generation started\n",
      "32 th data generation finished, time: 0.9105329513549805 s\n",
      "33 th data generation started\n",
      "33 th data generation finished, time: 1.0866708755493164 s\n",
      "34 th data generation started\n",
      "34 th data generation finished, time: 0.9556879997253418 s\n",
      "35 th data generation started\n",
      "35 th data generation finished, time: 0.9028420448303223 s\n",
      "36 th data generation started\n",
      "36 th data generation finished, time: 0.9130022525787354 s\n",
      "37 th data generation started\n",
      "37 th data generation finished, time: 0.9039096832275391 s\n",
      "38 th data generation started\n",
      "38 th data generation finished, time: 0.9017970561981201 s\n",
      "39 th data generation started\n",
      "39 th data generation finished, time: 0.9177782535552979 s\n",
      "40 th data generation started\n",
      "40 th data generation finished, time: 1.046314001083374 s\n",
      "41 th data generation started\n",
      "41 th data generation finished, time: 0.9808080196380615 s\n",
      "42 th data generation started\n",
      "42 th data generation finished, time: 0.9402921199798584 s\n",
      "43 th data generation started\n",
      "43 th data generation finished, time: 0.9313900470733643 s\n",
      "44 th data generation started\n",
      "44 th data generation finished, time: 0.9475729465484619 s\n",
      "45 th data generation started\n",
      "45 th data generation finished, time: 0.9626991748809814 s\n",
      "46 th data generation started\n",
      "46 th data generation finished, time: 0.9419686794281006 s\n",
      "47 th data generation started\n",
      "47 th data generation finished, time: 0.9334211349487305 s\n",
      "48 th data generation started\n",
      "48 th data generation finished, time: 0.963972806930542 s\n",
      "49 th data generation started\n",
      "49 th data generation finished, time: 0.9032337665557861 s\n",
      "50 th data generation started\n",
      "50 th data generation finished, time: 0.9041409492492676 s\n",
      "51 th data generation started\n",
      "51 th data generation finished, time: 0.9181439876556396 s\n",
      "52 th data generation started\n",
      "52 th data generation finished, time: 0.9089808464050293 s\n",
      "53 th data generation started\n",
      "53 th data generation finished, time: 0.9038589000701904 s\n",
      "54 th data generation started\n",
      "54 th data generation finished, time: 0.9685811996459961 s\n",
      "55 th data generation started\n",
      "55 th data generation finished, time: 0.9102330207824707 s\n",
      "56 th data generation started\n",
      "56 th data generation finished, time: 0.9951398372650146 s\n",
      "57 th data generation started\n",
      "57 th data generation finished, time: 0.9851949214935303 s\n",
      "58 th data generation started\n",
      "58 th data generation finished, time: 1.1079931259155273 s\n",
      "59 th data generation started\n",
      "59 th data generation finished, time: 1.0783040523529053 s\n",
      "60 th data generation started\n",
      "60 th data generation finished, time: 1.108124017715454 s\n",
      "61 th data generation started\n",
      "61 th data generation finished, time: 0.979651927947998 s\n",
      "62 th data generation started\n",
      "62 th data generation finished, time: 0.913095235824585 s\n",
      "63 th data generation started\n",
      "63 th data generation finished, time: 0.9101788997650146 s\n",
      "64 th data generation started\n",
      "64 th data generation finished, time: 0.9579031467437744 s\n",
      "65 th data generation started\n",
      "65 th data generation finished, time: 1.107666254043579 s\n",
      "66 th data generation started\n",
      "66 th data generation finished, time: 0.9826860427856445 s\n",
      "67 th data generation started\n",
      "67 th data generation finished, time: 1.0129950046539307 s\n",
      "68 th data generation started\n",
      "68 th data generation finished, time: 1.087501049041748 s\n",
      "69 th data generation started\n",
      "69 th data generation finished, time: 0.984637975692749 s\n",
      "70 th data generation started\n",
      "70 th data generation finished, time: 1.0063519477844238 s\n",
      "71 th data generation started\n",
      "71 th data generation finished, time: 1.011293888092041 s\n",
      "72 th data generation started\n",
      "72 th data generation finished, time: 1.0082929134368896 s\n",
      "73 th data generation started\n",
      "73 th data generation finished, time: 1.0280132293701172 s\n",
      "74 th data generation started\n",
      "74 th data generation finished, time: 1.0439097881317139 s\n",
      "75 th data generation started\n",
      "75 th data generation finished, time: 1.093799114227295 s\n",
      "76 th data generation started\n",
      "76 th data generation finished, time: 1.0146229267120361 s\n",
      "77 th data generation started\n",
      "77 th data generation finished, time: 0.9676718711853027 s\n",
      "78 th data generation started\n",
      "78 th data generation finished, time: 0.9917953014373779 s\n",
      "79 th data generation started\n",
      "79 th data generation finished, time: 0.9768919944763184 s\n",
      "80 th data generation started\n",
      "80 th data generation finished, time: 0.9930229187011719 s\n",
      "81 th data generation started\n",
      "81 th data generation finished, time: 1.0095469951629639 s\n",
      "82 th data generation started\n",
      "82 th data generation finished, time: 1.141178846359253 s\n",
      "83 th data generation started\n",
      "83 th data generation finished, time: 1.0148537158966064 s\n",
      "84 th data generation started\n",
      "84 th data generation finished, time: 1.072911024093628 s\n",
      "85 th data generation started\n",
      "85 th data generation finished, time: 1.0250427722930908 s\n",
      "86 th data generation started\n",
      "86 th data generation finished, time: 1.0885381698608398 s\n",
      "87 th data generation started\n",
      "87 th data generation finished, time: 1.0052518844604492 s\n",
      "88 th data generation started\n",
      "88 th data generation finished, time: 1.0673248767852783 s\n",
      "89 th data generation started\n",
      "89 th data generation finished, time: 0.9745001792907715 s\n",
      "90 th data generation started\n",
      "90 th data generation finished, time: 1.0373971462249756 s\n",
      "91 th data generation started\n",
      "91 th data generation finished, time: 1.022979974746704 s\n",
      "92 th data generation started\n",
      "92 th data generation finished, time: 1.0435969829559326 s\n",
      "93 th data generation started\n"
     ]
    },
    {
     "name": "stdout",
     "output_type": "stream",
     "text": [
      "93 th data generation finished, time: 1.0151658058166504 s\n",
      "94 th data generation started\n",
      "94 th data generation finished, time: 1.039125919342041 s\n",
      "95 th data generation started\n",
      "95 th data generation finished, time: 1.0318388938903809 s\n",
      "96 th data generation started\n",
      "96 th data generation finished, time: 1.0651392936706543 s\n",
      "97 th data generation started\n",
      "97 th data generation finished, time: 0.9807407855987549 s\n",
      "98 th data generation started\n",
      "98 th data generation finished, time: 1.1013357639312744 s\n",
      "99 th data generation started\n",
      "99 th data generation finished, time: 1.0488898754119873 s\n"
     ]
    }
   ],
   "source": [
    "train_data_Haar = []\n",
    "O = 100\n",
    "for i in range(O):\n",
    "    \n",
    "    print(i, \"th data generation started\")\n",
    "    \n",
    "    t1 = time.time()\n",
    "    \n",
    "    # generation of measurement outcomes\n",
    "    results = []\n",
    "    for ii in range(1, Nu + 1):\n",
    "        qc = QuantumCircuit(Nq, Nq)\n",
    "        qc.append(qi.random_unitary(2 ** Nq, seed = seed).to_instruction(), range(Nq))\n",
    "        seed += 1\n",
    "        qc.measure(range(Nq), range(Nq)[::-1])\n",
    "        results.append(execute(qc, shots = Ns, backend = Aer.get_backend(\"qasm_simulator\"), seed_simulator = 42, seed_transpiler = 42).result())\n",
    "        # print(i, \"...\", ii, \"th measurement finished\")\n",
    "    counts = []\n",
    "    for result in results:\n",
    "        counts.append(result.get_counts())\n",
    "    \n",
    "    # generation of input data\n",
    "    train = []\n",
    "    for k in range(1,5):\n",
    "        j = get_j(Nq, k)\n",
    "        for k_ in range(1,8):\n",
    "            res = get_moment_correlation_J( k_, Nu, counts, j, Ns)\n",
    "            train.append(res)\n",
    "    train_data_Haar.append(train)\n",
    "    \n",
    "    t2 = time.time()\n",
    "    \n",
    "    print(i, \"th data generation finished, time:\", t2 - t1, \"s\")"
   ]
  },
  {
   "cell_type": "code",
   "execution_count": 8,
   "id": "897cc507",
   "metadata": {},
   "outputs": [
    {
     "data": {
      "text/plain": [
       "<AxesSubplot:>"
      ]
     },
     "execution_count": 8,
     "metadata": {},
     "output_type": "execute_result"
    },
    {
     "data": {
      "image/png": "[encoded data removed]",
      "text/plain": [
       "<Figure size 432x288 with 2 Axes>"
      ]
     },
     "metadata": {
      "needs_background": "light"
     },
     "output_type": "display_data"
    }
   ],
   "source": [
    "sns.heatmap(train_data_RC[:10], cmap='Blues')"
   ]
  },
  {
   "cell_type": "code",
   "execution_count": 13,
   "id": "b62bcf91",
   "metadata": {},
   "outputs": [
    {
     "data": {
      "text/plain": [
       "<AxesSubplot:>"
      ]
     },
     "execution_count": 13,
     "metadata": {},
     "output_type": "execute_result"
    },
    {
     "data": {
      "image/png": "[encoded data removed]",
      "text/plain": [
       "<Figure size 432x288 with 2 Axes>"
      ]
     },
     "metadata": {
      "needs_background": "light"
     },
     "output_type": "display_data"
    }
   ],
   "source": [
    "sns.heatmap(train_data_Haar[:10], cmap='Blues')"
   ]
  },
  {
   "cell_type": "code",
   "execution_count": 20,
   "id": "ba201566",
   "metadata": {},
   "outputs": [],
   "source": [
    "with open(\"train_inputs_rc_simulator.pkl\", \"wb\") as f:\n",
    "    pickle.dump(train_data_RC, f)"
   ]
  },
  {
   "cell_type": "code",
   "execution_count": 21,
   "id": "24787c46",
   "metadata": {},
   "outputs": [],
   "source": [
    "with open(\"train_inputs_haar_simulator.pkl\", \"wb\") as f:\n",
    "    pickle.dump(train_data_Haar, f)"
   ]
  }
 ],
 "metadata": {
  "kernelspec": {
   "display_name": "Python 3 (ipykernel)",
   "language": "python",
   "name": "python3"
  },
  "language_info": {
   "codemirror_mode": {
    "name": "ipython",
    "version": 3
   },
   "file_extension": ".py",
   "mimetype": "text/x-python",
   "name": "python",
   "nbconvert_exporter": "python",
   "pygments_lexer": "ipython3",
   "version": "3.9.7"
  },
  "widgets": {
   "application/vnd.jupyter.widget-state+json": {
    "state": {},
    "version_major": 2,
    "version_minor": 0
   }
  }
 },
 "nbformat": 4,
 "nbformat_minor": 5
}
