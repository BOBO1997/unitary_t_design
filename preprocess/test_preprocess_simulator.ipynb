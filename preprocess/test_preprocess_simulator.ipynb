{
 "cells": [
  {
   "cell_type": "markdown",
   "id": "66f9ccd4",
   "metadata": {},
   "source": [
    "# Preprocess"
   ]
  },
  {
   "cell_type": "code",
   "execution_count": 1,
   "id": "7de2cdd3",
   "metadata": {},
   "outputs": [],
   "source": [
    "import qiskit\n",
    "from qiskit import IBMQ, Aer\n",
    "from qiskit import QuantumCircuit, QuantumRegister, ClassicalRegister, execute\n",
    "import qiskit.quantum_info as qi\n",
    "from qiskit.visualization import plot_histogram\n",
    "import time\n",
    "import random\n",
    "import numpy as np\n",
    "import pickle\n",
    "from pprint import pprint\n",
    "# from test_unitaries import *\n",
    "import matplotlib.pyplot as plt\n",
    "import seaborn as sns"
   ]
  },
  {
   "cell_type": "code",
   "execution_count": 2,
   "id": "358c3919-9335-47af-9c5c-261b669e9878",
   "metadata": {},
   "outputs": [],
   "source": [
    "num_data = 200 # original: 20000\n",
    "Nu= num_data\n",
    "Nq = 4 # number of qubit\n",
    "Ns = 100\n",
    "O = 100 \n",
    "seed = 1"
   ]
  },
  {
   "cell_type": "markdown",
   "id": "54868b68",
   "metadata": {},
   "source": [
    "## Generate binary strings with n bits "
   ]
  },
  {
   "cell_type": "code",
   "execution_count": 3,
   "id": "9758fe5f-586e-4391-ad2e-28c07c159a99",
   "metadata": {},
   "outputs": [],
   "source": [
    "def generate_binary_strings(bit_count):\n",
    "    binary_strings = []\n",
    "    def genbin(n, bs=''):\n",
    "        if len(bs) == n:\n",
    "            binary_strings.append(bs)\n",
    "        else:\n",
    "            genbin(n, bs + '0')\n",
    "            genbin(n, bs + '1')\n",
    "    genbin(bit_count)\n",
    "    return binary_strings"
   ]
  },
  {
   "cell_type": "markdown",
   "id": "c062f661",
   "metadata": {},
   "source": [
    "## function to evaluate eq 15 ( j(h_1, h_2.....h_k, i, l))"
   ]
  },
  {
   "cell_type": "code",
   "execution_count": 4,
   "id": "53fc830b-64b2-4f63-8cd8-482b31ed98c7",
   "metadata": {},
   "outputs": [],
   "source": [
    "def get_j(Nq, k):\n",
    "    keys = generate_binary_strings(Nq)    \n",
    "    j_ = []\n",
    "    for key in keys:\n",
    "        temp = 1\n",
    "        for i in range(k):\n",
    "            power = 1 - int(key[i])\n",
    "            temp = temp * ((-1)**power)\n",
    "        j_.append(temp)\n",
    "\n",
    "    j = dict(zip(keys, j_))\n",
    "    return j"
   ]
  },
  {
   "cell_type": "markdown",
   "id": "dbd414ef",
   "metadata": {},
   "source": [
    "## Equation 17"
   ]
  },
  {
   "cell_type": "code",
   "execution_count": 5,
   "id": "b7ca04a2-d21e-4012-b33e-2278f6bbcd03",
   "metadata": {},
   "outputs": [],
   "source": [
    "def get_moment_correlation_J( k_, Nu,counts, j, Ns):\n",
    "    J = []\n",
    "    keys = list(j.keys())\n",
    "    num = 0\n",
    "    # for each unitary Nu\n",
    "    for i in range(Nu):\n",
    "        temp = 0 \n",
    "        for key in keys:\n",
    "            if key in counts[i]:\n",
    "                wt = (counts[i][key])\n",
    "            else:\n",
    "                wt = 0\n",
    "            val = j[key]\n",
    "            temp = temp + (wt * val)\n",
    "        num = num + (temp**k_)    \n",
    "    J = num/((Ns**k_) * Nu)\n",
    "    return J"
   ]
  },
  {
   "cell_type": "code",
   "execution_count": 6,
   "id": "46bebb9b-b944-461d-b38c-8d28873ca2bc",
   "metadata": {},
   "outputs": [],
   "source": [
    "def results_to_counts(results):\n",
    "    counts = []\n",
    "    for result in results:\n",
    "        counts.append(result.get_counts())\n",
    "    return counts"
   ]
  },
  {
   "cell_type": "markdown",
   "id": "a6e4c2b0",
   "metadata": {},
   "source": [
    "### generate training data for LRC and RDC with O = 100 , k = [1,2,3,4], k'= [1,2,3,4,5,6,7]"
   ]
  },
  {
   "cell_type": "code",
   "execution_count": 7,
   "id": "eb422d4f",
   "metadata": {},
   "outputs": [],
   "source": [
    "import sys\n",
    "sys.path.append(\"../\")\n",
    "from test_unitaries import *"
   ]
  },
  {
   "cell_type": "code",
   "execution_count": 9,
   "id": "8f64c31f",
   "metadata": {},
   "outputs": [
    {
     "name": "stdout",
     "output_type": "stream",
     "text": [
      "0 th data generation started\n",
      "0 th data generation finished, time: 1.4849417209625244 s\n",
      "1 th data generation started\n",
      "1 th data generation finished, time: 1.35955810546875 s\n",
      "2 th data generation started\n",
      "2 th data generation finished, time: 1.3005502223968506 s\n",
      "3 th data generation started\n",
      "3 th data generation finished, time: 1.363128900527954 s\n",
      "4 th data generation started\n",
      "4 th data generation finished, time: 1.2835109233856201 s\n",
      "5 th data generation started\n",
      "5 th data generation finished, time: 1.2984449863433838 s\n",
      "6 th data generation started\n",
      "6 th data generation finished, time: 1.2789900302886963 s\n",
      "7 th data generation started\n",
      "7 th data generation finished, time: 1.3593130111694336 s\n",
      "8 th data generation started\n",
      "8 th data generation finished, time: 1.5010168552398682 s\n",
      "9 th data generation started\n",
      "9 th data generation finished, time: 1.339284896850586 s\n",
      "10 th data generation started\n",
      "10 th data generation finished, time: 1.2396512031555176 s\n",
      "11 th data generation started\n",
      "11 th data generation finished, time: 1.3070271015167236 s\n",
      "12 th data generation started\n",
      "12 th data generation finished, time: 1.4435181617736816 s\n",
      "13 th data generation started\n",
      "13 th data generation finished, time: 1.5868899822235107 s\n",
      "14 th data generation started\n",
      "14 th data generation finished, time: 1.3989050388336182 s\n",
      "15 th data generation started\n",
      "15 th data generation finished, time: 1.4442939758300781 s\n",
      "16 th data generation started\n",
      "16 th data generation finished, time: 1.4958858489990234 s\n",
      "17 th data generation started\n",
      "17 th data generation finished, time: 1.5479140281677246 s\n",
      "18 th data generation started\n",
      "18 th data generation finished, time: 1.4021711349487305 s\n",
      "19 th data generation started\n",
      "19 th data generation finished, time: 1.2177212238311768 s\n",
      "20 th data generation started\n",
      "20 th data generation finished, time: 1.2837469577789307 s\n",
      "21 th data generation started\n",
      "21 th data generation finished, time: 1.150559902191162 s\n",
      "22 th data generation started\n",
      "22 th data generation finished, time: 1.1648459434509277 s\n",
      "23 th data generation started\n",
      "23 th data generation finished, time: 1.343721866607666 s\n",
      "24 th data generation started\n",
      "24 th data generation finished, time: 1.2260057926177979 s\n",
      "25 th data generation started\n",
      "25 th data generation finished, time: 1.305056095123291 s\n",
      "26 th data generation started\n",
      "26 th data generation finished, time: 1.3635351657867432 s\n",
      "27 th data generation started\n",
      "27 th data generation finished, time: 1.6637539863586426 s\n",
      "28 th data generation started\n",
      "28 th data generation finished, time: 1.1684417724609375 s\n",
      "29 th data generation started\n",
      "29 th data generation finished, time: 1.2385809421539307 s\n",
      "30 th data generation started\n",
      "30 th data generation finished, time: 1.4692940711975098 s\n",
      "31 th data generation started\n",
      "31 th data generation finished, time: 1.1898488998413086 s\n",
      "32 th data generation started\n",
      "32 th data generation finished, time: 1.1443109512329102 s\n",
      "33 th data generation started\n",
      "33 th data generation finished, time: 1.3893280029296875 s\n",
      "34 th data generation started\n",
      "34 th data generation finished, time: 1.1664190292358398 s\n",
      "35 th data generation started\n",
      "35 th data generation finished, time: 1.1489882469177246 s\n",
      "36 th data generation started\n",
      "36 th data generation finished, time: 1.2208242416381836 s\n",
      "37 th data generation started\n",
      "37 th data generation finished, time: 1.352114200592041 s\n",
      "38 th data generation started\n",
      "38 th data generation finished, time: 1.2595319747924805 s\n",
      "39 th data generation started\n",
      "39 th data generation finished, time: 1.406898021697998 s\n",
      "40 th data generation started\n",
      "40 th data generation finished, time: 1.429765224456787 s\n",
      "41 th data generation started\n",
      "41 th data generation finished, time: 1.388901710510254 s\n",
      "42 th data generation started\n",
      "42 th data generation finished, time: 1.3908898830413818 s\n",
      "43 th data generation started\n",
      "43 th data generation finished, time: 1.428232192993164 s\n",
      "44 th data generation started\n",
      "44 th data generation finished, time: 1.4777090549468994 s\n",
      "45 th data generation started\n",
      "45 th data generation finished, time: 1.371018886566162 s\n",
      "46 th data generation started\n",
      "46 th data generation finished, time: 1.367964744567871 s\n",
      "47 th data generation started\n",
      "47 th data generation finished, time: 1.2473459243774414 s\n",
      "48 th data generation started\n",
      "48 th data generation finished, time: 1.2783548831939697 s\n",
      "49 th data generation started\n",
      "49 th data generation finished, time: 1.1752917766571045 s\n",
      "50 th data generation started\n",
      "50 th data generation finished, time: 1.327528953552246 s\n",
      "51 th data generation started\n",
      "51 th data generation finished, time: 1.2862660884857178 s\n",
      "52 th data generation started\n",
      "52 th data generation finished, time: 1.3613231182098389 s\n",
      "53 th data generation started\n",
      "53 th data generation finished, time: 1.199815273284912 s\n",
      "54 th data generation started\n",
      "54 th data generation finished, time: 1.2429468631744385 s\n",
      "55 th data generation started\n",
      "55 th data generation finished, time: 1.2066869735717773 s\n",
      "56 th data generation started\n",
      "56 th data generation finished, time: 1.1993720531463623 s\n",
      "57 th data generation started\n",
      "57 th data generation finished, time: 1.1991300582885742 s\n",
      "58 th data generation started\n",
      "58 th data generation finished, time: 1.1952128410339355 s\n",
      "59 th data generation started\n",
      "59 th data generation finished, time: 1.38885498046875 s\n",
      "60 th data generation started\n",
      "60 th data generation finished, time: 1.2667691707611084 s\n",
      "61 th data generation started\n",
      "61 th data generation finished, time: 1.2682528495788574 s\n",
      "62 th data generation started\n",
      "62 th data generation finished, time: 1.2555758953094482 s\n",
      "63 th data generation started\n",
      "63 th data generation finished, time: 1.2803268432617188 s\n",
      "64 th data generation started\n",
      "64 th data generation finished, time: 1.2430768013000488 s\n",
      "65 th data generation started\n",
      "65 th data generation finished, time: 1.3488037586212158 s\n",
      "66 th data generation started\n",
      "66 th data generation finished, time: 1.2916631698608398 s\n",
      "67 th data generation started\n",
      "67 th data generation finished, time: 1.2661669254302979 s\n",
      "68 th data generation started\n",
      "68 th data generation finished, time: 1.2909488677978516 s\n",
      "69 th data generation started\n",
      "69 th data generation finished, time: 1.2678699493408203 s\n",
      "70 th data generation started\n",
      "70 th data generation finished, time: 1.251267910003662 s\n",
      "71 th data generation started\n",
      "71 th data generation finished, time: 1.3091158866882324 s\n",
      "72 th data generation started\n",
      "72 th data generation finished, time: 1.3070271015167236 s\n",
      "73 th data generation started\n",
      "73 th data generation finished, time: 1.2549409866333008 s\n",
      "74 th data generation started\n",
      "74 th data generation finished, time: 1.1836438179016113 s\n",
      "75 th data generation started\n",
      "75 th data generation finished, time: 1.2378270626068115 s\n",
      "76 th data generation started\n",
      "76 th data generation finished, time: 1.266185998916626 s\n",
      "77 th data generation started\n",
      "77 th data generation finished, time: 1.2309021949768066 s\n",
      "78 th data generation started\n",
      "78 th data generation finished, time: 1.330021858215332 s\n",
      "79 th data generation started\n",
      "79 th data generation finished, time: 1.2994670867919922 s\n",
      "80 th data generation started\n",
      "80 th data generation finished, time: 1.2938148975372314 s\n",
      "81 th data generation started\n",
      "81 th data generation finished, time: 1.355116844177246 s\n",
      "82 th data generation started\n",
      "82 th data generation finished, time: 1.4347422122955322 s\n",
      "83 th data generation started\n",
      "83 th data generation finished, time: 1.4146478176116943 s\n",
      "84 th data generation started\n",
      "84 th data generation finished, time: 1.337845802307129 s\n",
      "85 th data generation started\n",
      "85 th data generation finished, time: 1.4813423156738281 s\n",
      "86 th data generation started\n",
      "86 th data generation finished, time: 1.3972339630126953 s\n",
      "87 th data generation started\n",
      "87 th data generation finished, time: 1.321023941040039 s\n",
      "88 th data generation started\n",
      "88 th data generation finished, time: 1.3178989887237549 s\n",
      "89 th data generation started\n",
      "89 th data generation finished, time: 1.3050990104675293 s\n",
      "90 th data generation started\n",
      "90 th data generation finished, time: 1.3443491458892822 s\n",
      "91 th data generation started\n",
      "91 th data generation finished, time: 1.45809006690979 s\n",
      "92 th data generation started\n",
      "92 th data generation finished, time: 1.272716999053955 s\n",
      "93 th data generation started\n"
     ]
    },
    {
     "name": "stdout",
     "output_type": "stream",
     "text": [
      "93 th data generation finished, time: 1.4550402164459229 s\n",
      "94 th data generation started\n",
      "94 th data generation finished, time: 1.2893037796020508 s\n",
      "95 th data generation started\n",
      "95 th data generation finished, time: 1.3088879585266113 s\n",
      "96 th data generation started\n",
      "96 th data generation finished, time: 1.3524701595306396 s\n",
      "97 th data generation started\n",
      "97 th data generation finished, time: 1.206157922744751 s\n",
      "98 th data generation started\n",
      "98 th data generation finished, time: 1.237346887588501 s\n",
      "99 th data generation started\n",
      "99 th data generation finished, time: 1.2064168453216553 s\n"
     ]
    }
   ],
   "source": [
    "train_data_LRC = []\n",
    "O = 100\n",
    "for i in range(O):\n",
    "    \n",
    "    print(i, \"th data generation started\")\n",
    "    \n",
    "    t1 = time.time()\n",
    "    \n",
    "    # generation of measurement outcomes\n",
    "    results = []\n",
    "    for ii in range(1, num_data + 1):\n",
    "        qc = QuantumCircuit(Nq, Nq)\n",
    "        D = 2\n",
    "        qc.append(LRC(Nq, D, to_gate=True, seeds = [seed + iii for iii in range(4)]), range(Nq))\n",
    "        seed += 4\n",
    "        qc.measure(range(Nq), range(Nq)[::-1])\n",
    "        results.append(execute(qc, shots = Ns, backend = Aer.get_backend(\"qasm_simulator\"), seed_simulator = 42, seed_transpiler = 42).result())\n",
    "        # print(i, \"...\", ii, \"th measurement finished\")\n",
    "    counts = []\n",
    "    for result in results:\n",
    "        counts.append(result.get_counts())\n",
    "    \n",
    "    # generation of input data\n",
    "    train = []\n",
    "    for k in range(1,5):\n",
    "        j = get_j(Nq, k)\n",
    "        for k_ in range(1,8):\n",
    "            res = get_moment_correlation_J(k_, Nu, counts, j, Ns)\n",
    "            train.append(res)\n",
    "    train_data_LRC.append(train)\n",
    "    \n",
    "    t2 = time.time()\n",
    "    \n",
    "    print(i, \"th data generation finished, time:\", t2 - t1, \"s\")"
   ]
  },
  {
   "cell_type": "code",
   "execution_count": 15,
   "id": "48d46538",
   "metadata": {
    "scrolled": true
   },
   "outputs": [
    {
     "name": "stdout",
     "output_type": "stream",
     "text": [
      "0 th data generation started\n",
      "0 th data generation finished, time: 26.77976393699646 s\n",
      "1 th data generation started\n",
      "1 th data generation finished, time: 26.289762258529663 s\n",
      "2 th data generation started\n",
      "2 th data generation finished, time: 26.227948904037476 s\n",
      "3 th data generation started\n",
      "3 th data generation finished, time: 27.565539836883545 s\n",
      "4 th data generation started\n",
      "4 th data generation finished, time: 25.49445629119873 s\n",
      "5 th data generation started\n",
      "5 th data generation finished, time: 25.48368000984192 s\n",
      "6 th data generation started\n",
      "6 th data generation finished, time: 24.59825897216797 s\n",
      "7 th data generation started\n",
      "7 th data generation finished, time: 24.94279980659485 s\n",
      "8 th data generation started\n",
      "8 th data generation finished, time: 25.954041004180908 s\n",
      "9 th data generation started\n",
      "9 th data generation finished, time: 26.695441961288452 s\n"
     ]
    }
   ],
   "source": [
    "train_data_RDC = []\n",
    "O = 10\n",
    "for i in range(O):\n",
    "    \n",
    "    print(i, \"th data generation started\")\n",
    "    \n",
    "    t1 = time.time()\n",
    "    \n",
    "    # generation of measurement outcomes\n",
    "    results = []\n",
    "    for ii in range(1, num_data + 1):\n",
    "        qc = QuantumCircuit(Nq, Nq)\n",
    "        D = 2\n",
    "        qc.append(RDC(Nq, D, to_gate=True, seed = seed), range(Nq))\n",
    "        qc.measure(range(Nq), range(Nq)[::-1])\n",
    "        seed = seed + 1\n",
    "        results.append(execute(qc, shots = Ns, backend = Aer.get_backend(\"qasm_simulator\"), seed_simulator = 42, seed_transpiler = 42).result())\n",
    "        # print(i, \"...\", ii, \"th measurement finished\")\n",
    "    counts = []\n",
    "    for result in results:\n",
    "        counts.append(result.get_counts())\n",
    "    \n",
    "    # generation of input data\n",
    "    train = []\n",
    "    for k in range(1,5):\n",
    "        j = get_j(Nq, k)\n",
    "        for k_ in range(1,8):\n",
    "            res = get_moment_correlation_J(k_, Nu, counts, j, Ns)\n",
    "            train.append(res)\n",
    "    train_data_RDC.append(train)\n",
    "    \n",
    "    t2 = time.time()\n",
    "    \n",
    "    print(i, \"th data generation finished, time:\", t2 - t1, \"s\")"
   ]
  },
  {
   "cell_type": "code",
   "execution_count": 17,
   "id": "c6b7f239",
   "metadata": {},
   "outputs": [
    {
     "data": {
      "text/plain": [
       "<AxesSubplot:>"
      ]
     },
     "execution_count": 17,
     "metadata": {},
     "output_type": "execute_result"
    },
    {
     "data": {
      "image/png": "[encoded data removed]",
      "text/plain": [
       "<Figure size 432x288 with 2 Axes>"
      ]
     },
     "metadata": {
      "needs_background": "light"
     },
     "output_type": "display_data"
    }
   ],
   "source": [
    "sns.heatmap(train_data_LRC[:10], cmap='Blues')"
   ]
  },
  {
   "cell_type": "code",
   "execution_count": 18,
   "id": "d6b3a733",
   "metadata": {},
   "outputs": [
    {
     "data": {
      "text/plain": [
       "<AxesSubplot:>"
      ]
     },
     "execution_count": 18,
     "metadata": {},
     "output_type": "execute_result"
    },
    {
     "data": {
      "image/png": "[encoded data removed]",
      "text/plain": [
       "<Figure size 432x288 with 2 Axes>"
      ]
     },
     "metadata": {
      "needs_background": "light"
     },
     "output_type": "display_data"
    }
   ],
   "source": [
    "sns.heatmap(train_data_RDC[:10], cmap='Blues')"
   ]
  },
  {
   "cell_type": "code",
   "execution_count": 19,
   "id": "4322598c",
   "metadata": {},
   "outputs": [
    {
     "data": {
      "text/plain": [
       "<AxesSubplot:>"
      ]
     },
     "execution_count": 19,
     "metadata": {},
     "output_type": "execute_result"
    },
    {
     "data": {
      "image/png": "[encoded data removed]",
      "text/plain": [
       "<Figure size 432x288 with 2 Axes>"
      ]
     },
     "metadata": {
      "needs_background": "light"
     },
     "output_type": "display_data"
    }
   ],
   "source": [
    "sns.heatmap(train_data_RDC, cmap='Blues', vmax=0.10, vmin=-0.07)"
   ]
  },
  {
   "cell_type": "code",
   "execution_count": null,
   "id": "661f452c",
   "metadata": {},
   "outputs": [],
   "source": [
    "sns.heatmap(train_data_LRC[:5], cmap='Blues', vmax=0.10, vmin=-0.05)"
   ]
  },
  {
   "cell_type": "code",
   "execution_count": null,
   "id": "12d5de04",
   "metadata": {},
   "outputs": [],
   "source": [
    "sns.heatmap(train_data_RDC[:5], cmap='Blues', vmax=0.10, vmin=-0.05)"
   ]
  },
  {
   "cell_type": "code",
   "execution_count": null,
   "id": "24787c46",
   "metadata": {},
   "outputs": [],
   "source": [
    "with open(\"train_inputs_LRC2_simulator.pkl\", \"wb\") as f:\n",
    "    pickle.dump(train_data_LRC, f)"
   ]
  },
  {
   "cell_type": "code",
   "execution_count": null,
   "id": "ba201566",
   "metadata": {},
   "outputs": [],
   "source": [
    "with open(\"train_inputs_RDC2_simulator.pkl\", \"wb\") as f:\n",
    "    pickle.dump(train_data_RDC, f)"
   ]
  }
 ],
 "metadata": {
  "kernelspec": {
   "display_name": "Python 3 (ipykernel)",
   "language": "python",
   "name": "python3"
  },
  "language_info": {
   "codemirror_mode": {
    "name": "ipython",
    "version": 3
   },
   "file_extension": ".py",
   "mimetype": "text/x-python",
   "name": "python",
   "nbconvert_exporter": "python",
   "pygments_lexer": "ipython3",
   "version": "3.9.7"
  },
  "widgets": {
   "application/vnd.jupyter.widget-state+json": {
    "state": {},
    "version_major": 2,
    "version_minor": 0
   }
  }
 },
 "nbformat": 4,
 "nbformat_minor": 5
}
