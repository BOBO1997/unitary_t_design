{
 "cells": [
  {
   "cell_type": "markdown",
   "metadata": {},
   "source": [
    "# Random Clifford (ibmq_montreal)"
   ]
  },
  {
   "cell_type": "code",
   "execution_count": 1,
   "metadata": {
    "scrolled": true
   },
   "outputs": [
    {
     "name": "stderr",
     "output_type": "stream",
     "text": [
      "/Users/yangbo/.pyenv/versions/anaconda3-5.1.0/lib/python3.6/site-packages/qiskit/__init__.py:67: DeprecationWarning: Using Qiskit with Python 3.6 is deprecated as of the 0.17.0 release. Support for running Qiskit with Python 3.6 will be removed in a future release.\n",
      "  DeprecationWarning,\n"
     ]
    }
   ],
   "source": [
    "import qiskit\n",
    "from qiskit import IBMQ, Aer\n",
    "from qiskit import QuantumCircuit, QuantumRegister, ClassicalRegister, execute\n",
    "import qiskit.quantum_info as qi\n",
    "from qiskit.visualization import plot_histogram"
   ]
  },
  {
   "cell_type": "code",
   "execution_count": 2,
   "metadata": {},
   "outputs": [
    {
     "name": "stderr",
     "output_type": "stream",
     "text": [
      "/Users/yangbo/Documents/oss/qiskit-aqua/qiskit/aqua/__init__.py:86: DeprecationWarning: The package qiskit.aqua is deprecated. It was moved/refactored to qiskit-terra For more information see <https://github.com/Qiskit/qiskit-aqua/blob/main/README.md#migration-guide>\n",
      "  warn_package('aqua', 'qiskit-terra')\n"
     ]
    }
   ],
   "source": [
    "IBMQ.load_account()\n",
    "provider = IBMQ.get_provider(hub='ibm-q-utokyo', group='internal', project='hirashi-jst')"
   ]
  },
  {
   "cell_type": "code",
   "execution_count": 3,
   "metadata": {},
   "outputs": [],
   "source": [
    "import sys\n",
    "sys.path.append(\"./\")"
   ]
  },
  {
   "cell_type": "code",
   "execution_count": 4,
   "metadata": {},
   "outputs": [],
   "source": [
    "import random\n",
    "import numpy as np\n",
    "import importlib\n",
    "import pickle\n",
    "import time\n",
    "from pprint import pprint\n",
    "import matplotlib.pyplot as plt"
   ]
  },
  {
   "cell_type": "code",
   "execution_count": 5,
   "metadata": {},
   "outputs": [],
   "source": [
    "from test_unitaries import *"
   ]
  },
  {
   "cell_type": "code",
   "execution_count": 6,
   "metadata": {},
   "outputs": [],
   "source": [
    "seed = 42 # random seed\n",
    "num_data = 20000 # original: 20000\n",
    "Nq = 4 # number of qubit\n",
    "Ns = 1000"
   ]
  },
  {
   "cell_type": "code",
   "execution_count": 7,
   "metadata": {},
   "outputs": [],
   "source": [
    "job_ids = []"
   ]
  },
  {
   "cell_type": "code",
   "execution_count": 8,
   "metadata": {},
   "outputs": [],
   "source": [
    "ibmq_montreal = provider.get_backend(\"ibmq_montreal\")"
   ]
  },
  {
   "cell_type": "code",
   "execution_count": 10,
   "metadata": {
    "scrolled": true
   },
   "outputs": [
    {
     "name": "stdout",
     "output_type": "stream",
     "text": [
      "generated 900 circuits\n",
      "job id for 1 th job: 6141afd323a3f6d3dd9a53de\n",
      "generated 900 circuits\n",
      "job id for 2 th job: 6141b2d810b4a29b11a0ef63\n",
      "generated 900 circuits\n",
      "job id for 3 th job: 6141b5aa2be369068958418b\n",
      "generated 900 circuits\n",
      "job id for 4 th job: 6141b88623a3f6be1b9a5406\n",
      "generated 900 circuits\n",
      "job id for 5 th job: 6141bb419664973fa7f65337\n",
      "generated 900 circuits\n",
      "job id for 6 th job: 6141be0074410324de32ca84\n",
      "generated 900 circuits\n",
      "job id for 7 th job: 6141c08c010c161ad0564867\n",
      "generated 900 circuits\n",
      "job id for 8 th job: 6141c34696649768b2f65364\n",
      "generated 900 circuits\n",
      "job id for 9 th job: 6141c5ac010c16979d564872\n",
      "generated 900 circuits\n",
      "job id for 10 th job: 6141c81e96649714e4f65376\n",
      "generated 900 circuits\n",
      "job id for 11 th job: 6141ca856feb7e67316f5b43\n",
      "generated 900 circuits\n",
      "job id for 12 th job: 6141ccfd10b4a29f6ba0efe1\n",
      "generated 900 circuits\n",
      "job id for 13 th job: 6141cf70744103083332cad8\n",
      "generated 900 circuits\n",
      "job id for 14 th job: 6141d1dd10b4a24c35a0efee\n",
      "generated 900 circuits\n",
      "job id for 15 th job: 6141d44c10b4a243e5a0effb\n",
      "generated 900 circuits\n",
      "job id for 16 th job: 6141d6c12be369ec43584240\n",
      "generated 900 circuits\n",
      "job id for 17 th job: 6141d92a010c16b0435648ec\n",
      "generated 900 circuits\n",
      "job id for 18 th job: 6141db986feb7edada6f5ba6\n",
      "generated 900 circuits\n",
      "job id for 19 th job: 6141de17744103a9c232cb1f\n",
      "generated 900 circuits\n",
      "job id for 20 th job: 6141e09c10b4a2491ea0f039\n",
      "generated 900 circuits\n",
      "job id for 21 th job: 6141e30bf020e85fce6bb4d4\n",
      "generated 900 circuits\n",
      "job id for 22 th job: 6141e57d23a3f6afd19a54ee\n",
      "generated 900 circuits\n",
      "job id for 23 th job: 6141e7e7744103dec632cb59\n"
     ]
    }
   ],
   "source": [
    "for i in range(1, (num_data + 1) // 900 + 2):\n",
    "    qcs = []\n",
    "    for j in range(900):\n",
    "        qc = QuantumCircuit(Nq)\n",
    "        qc.append(qi.random_clifford(Nq, seed = (i - 1) * 900 + j).to_instruction(), range(Nq))\n",
    "        qc.append(qi.random_unitary(2 ** Nq, seed = (i - 1) * 900 + j).to_instruction(), range(Nq))\n",
    "        qc.measure_all()\n",
    "        qcs.append(qc)\n",
    "    print(\"generated 900 circuits\")\n",
    "    job = execute(qcs, shots = Ns, backend = ibmq_montreal)\n",
    "    job_ids.append(job.job_id())\n",
    "    print(\"job id for\", i, \"th job:\", job.job_id())"
   ]
  },
  {
   "cell_type": "code",
   "execution_count": 11,
   "metadata": {},
   "outputs": [],
   "source": [
    "with open(\"training_data_rc_montreal_job_ids.pkl\", \"wb\") as f:\n",
    "    pickle.dump(job_ids, f)"
   ]
  },
  {
   "cell_type": "code",
   "execution_count": null,
   "metadata": {},
   "outputs": [],
   "source": [
    "with open(\"training_data_rc_montreal_job_ids.pkl\", \"rb\") as f:\n",
    "    job_ids = pickle.load(f)"
   ]
  },
  {
   "cell_type": "markdown",
   "metadata": {},
   "source": [
    "- the result data is stored at .pkl file\n",
    "- you can convert the data from Result type to counts (dict of state (str) to counts (int)) by the following function"
   ]
  },
  {
   "cell_type": "code",
   "execution_count": null,
   "metadata": {},
   "outputs": [],
   "source": [
    "backend = provider.backend.ibmq_montreal"
   ]
  },
  {
   "cell_type": "code",
   "execution_count": null,
   "metadata": {},
   "outputs": [],
   "source": [
    "def job_ids_to_results(job_ids, backend):\n",
    "    results = []\n",
    "    for job_id in job_ids:\n",
    "        job = backend.retrieve_job(job.job_id())\n",
    "        results.append(job.result())\n",
    "    return results"
   ]
  },
  {
   "cell_type": "code",
   "execution_count": null,
   "metadata": {},
   "outputs": [],
   "source": [
    "def results_to_counts(results):\n",
    "    counts = []\n",
    "    for result in results:\n",
    "        counts.append(result.get_counts())\n",
    "    return counts"
   ]
  },
  {
   "cell_type": "code",
   "execution_count": null,
   "metadata": {},
   "outputs": [],
   "source": [
    "counts = results_to_counts(results)"
   ]
  },
  {
   "cell_type": "code",
   "execution_count": null,
   "metadata": {},
   "outputs": [],
   "source": [
    "plot_histogram(counts[0])"
   ]
  }
 ],
 "metadata": {
  "kernelspec": {
   "display_name": "Python 3",
   "language": "python",
   "name": "python3"
  },
  "language_info": {
   "codemirror_mode": {
    "name": "ipython",
    "version": 3
   },
   "file_extension": ".py",
   "mimetype": "text/x-python",
   "name": "python",
   "nbconvert_exporter": "python",
   "pygments_lexer": "ipython3",
   "version": "3.6.13"
  }
 },
 "nbformat": 4,
 "nbformat_minor": 2
}
