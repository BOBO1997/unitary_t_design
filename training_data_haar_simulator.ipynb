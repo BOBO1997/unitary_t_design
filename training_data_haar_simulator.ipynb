{
 "cells": [
  {
   "cell_type": "markdown",
   "metadata": {},
   "source": [
    "# Haar Random Unitary (simulator)"
   ]
  },
  {
   "cell_type": "code",
   "execution_count": 12,
   "metadata": {
    "scrolled": true
   },
   "outputs": [],
   "source": [
    "import qiskit\n",
    "from qiskit import IBMQ, Aer\n",
    "from qiskit import QuantumCircuit, QuantumRegister, ClassicalRegister, execute\n",
    "import qiskit.quantum_info as qi\n",
    "from qiskit.visualization import plot_histogram"
   ]
  },
  {
   "cell_type": "code",
   "execution_count": 13,
   "metadata": {},
   "outputs": [],
   "source": [
    "# IBMQ.load_account()\n",
    "# provider = IBMQ.get_provider(hub='ibm-q-utokyo', group='internal', project='hirashi-jst')"
   ]
  },
  {
   "cell_type": "code",
   "execution_count": 14,
   "metadata": {},
   "outputs": [],
   "source": [
    "import sys\n",
    "sys.path.append(\"./\")"
   ]
  },
  {
   "cell_type": "code",
   "execution_count": 15,
   "metadata": {},
   "outputs": [],
   "source": [
    "import random\n",
    "import numpy as np\n",
    "import importlib\n",
    "import pickle\n",
    "import time\n",
    "from pprint import pprint\n",
    "import matplotlib.pyplot as plt"
   ]
  },
  {
   "cell_type": "code",
   "execution_count": 16,
   "metadata": {},
   "outputs": [],
   "source": [
    "from test_unitaries import *"
   ]
  },
  {
   "cell_type": "code",
   "execution_count": 17,
   "metadata": {},
   "outputs": [],
   "source": [
    "seed = 42 # random seed\n",
    "num_data = 200 # original: 20000\n",
    "Nq = 4 # number of qubit\n",
    "Ns = 1000"
   ]
  },
  {
   "cell_type": "code",
   "execution_count": 18,
   "metadata": {},
   "outputs": [],
   "source": [
    "results = []"
   ]
  },
  {
   "cell_type": "code",
   "execution_count": 19,
   "metadata": {
    "scrolled": true
   },
   "outputs": [
    {
     "name": "stdout",
     "output_type": "stream",
     "text": [
      "added 100 th data ( 1.0685350894927979 s)\n",
      "added 200 th data ( 1.2150590419769287 s)\n"
     ]
    }
   ],
   "source": [
    "t1 = time.time()\n",
    "for i in range(1, num_data + 1):\n",
    "    qc = QuantumCircuit(Nq)\n",
    "    qc.append(qi.random_unitary(2 ** Nq, seed = i + 5).to_instruction(), range(Nq))\n",
    "    qc.measure_all()\n",
    "    results.append(execute(qc, shots = Ns, backend = Aer.get_backend(\"qasm_simulator\"), seed_simulator = i).result())\n",
    "    if i % 100 == 0:\n",
    "        t2 = time.time()\n",
    "        print(\"added\", i, \"th data (\", t2 - t1, \"s)\")\n",
    "        t1 = t2\n",
    "        with open(\"training_data_haar_simulator.pkl\", \"wb\") as f:\n",
    "            pickle.dump(results, f)"
   ]
  },
  {
   "cell_type": "markdown",
   "metadata": {},
   "source": [
    "- the result data is stored at .pkl file\n",
    "- you can convert the data from Result type to counts (dict of state (str) to counts (int)) by the following function"
   ]
  },
  {
   "cell_type": "code",
   "execution_count": 20,
   "metadata": {},
   "outputs": [],
   "source": [
    "def results_to_counts(results):\n",
    "    counts = []\n",
    "    for result in results:\n",
    "        counts.append(result.get_counts())\n",
    "    return counts"
   ]
  },
  {
   "cell_type": "code",
   "execution_count": 21,
   "metadata": {},
   "outputs": [],
   "source": [
    "counts = results_to_counts(results)"
   ]
  },
  {
   "cell_type": "code",
   "execution_count": 22,
   "metadata": {},
   "outputs": [
    {
     "data": {
      "image/png": "[encoded data removed]",
      "text/plain": [
       "<Figure size 504x360 with 1 Axes>"
      ]
     },
     "execution_count": 22,
     "metadata": {},
     "output_type": "execute_result"
    }
   ],
   "source": [
    "plot_histogram(counts[0])"
   ]
  },
  {
   "cell_type": "code",
   "execution_count": null,
   "metadata": {},
   "outputs": [],
   "source": []
  }
 ],
 "metadata": {
  "kernelspec": {
   "display_name": "Python 3",
   "language": "python",
   "name": "python3"
  },
  "language_info": {
   "codemirror_mode": {
    "name": "ipython",
    "version": 3
   },
   "file_extension": ".py",
   "mimetype": "text/x-python",
   "name": "python",
   "nbconvert_exporter": "python",
   "pygments_lexer": "ipython3",
   "version": "3.6.13"
  }
 },
 "nbformat": 4,
 "nbformat_minor": 2
}
